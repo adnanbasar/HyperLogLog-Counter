{
 "metadata": {
  "name": "HyperLogLog Counter Test"
 },
 "nbformat": 3,
 "nbformat_minor": 0,
 "worksheets": [
  {
   "cells": [
    {
     "cell_type": "markdown",
     "metadata": {},
     "source": [
      "HyperLogLog Implemantation for Python (khmer) Test Example"
     ]
    },
    {
     "cell_type": "code",
     "collapsed": false,
     "input": [
      "import khmer\n",
      "from khmer import hll\n",
      "import random\n",
      "\n",
      "example=hll(0.05)\n",
      "\n",
      "for j in range(10000):\n",
      "\texample.add(random.randint(0,1e6))\n",
      "    \n",
      "print \"Cardinality:\",example.cardinality()\n"
     ],
     "language": "python",
     "metadata": {},
     "outputs": [
      {
       "output_type": "stream",
       "stream": "stdout",
       "text": [
        "Cardinality: 9198.10093524\n"
       ]
      }
     ],
     "prompt_number": 4
    },
    {
     "cell_type": "code",
     "collapsed": false,
     "input": [],
     "language": "python",
     "metadata": {},
     "outputs": [],
     "prompt_number": 52
    },
    {
     "cell_type": "code",
     "collapsed": false,
     "input": [],
     "language": "python",
     "metadata": {},
     "outputs": [],
     "prompt_number": 11
    }
   ],
   "metadata": {}
  }
 ]
}