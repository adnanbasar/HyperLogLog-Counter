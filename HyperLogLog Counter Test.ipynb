{
 "metadata": {
  "name": "HyperLogLog Counter Test"
 },
 "nbformat": 3,
 "nbformat_minor": 0,
 "worksheets": [
  {
   "cells": [
    {
     "cell_type": "markdown",
     "metadata": {},
     "source": [
      "HyperLogLog Implemantation for Python (khmer) Test Example"
     ]
    },
    {
     "cell_type": "code",
     "collapsed": false,
     "input": [
      "import khmer\n",
      "from khmer import hll\n",
      "import random\n",
      "\n",
      "example=hll('example',0.05)\n",
      "\n",
      "for j in range(10000):\n",
      "\texample.add(random.randint(0,1e6))\n",
      "    \n",
      "print \"Cardinality:\",example.cardinality()"
     ],
     "language": "python",
     "metadata": {},
     "outputs": []
    },
    {
     "cell_type": "code",
     "collapsed": false,
     "input": [],
     "language": "python",
     "metadata": {},
     "outputs": [],
     "prompt_number": 52
    },
    {
     "cell_type": "code",
     "collapsed": false,
     "input": [],
     "language": "python",
     "metadata": {},
     "outputs": [],
     "prompt_number": 11
    }
   ],
   "metadata": {}
  }
 ]
}